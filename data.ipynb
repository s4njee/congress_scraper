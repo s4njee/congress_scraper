{
 "cells": [
  {
   "cell_type": "code",
   "execution_count": 1,
   "metadata": {
    "collapsed": true
   },
   "outputs": [],
   "source": [
    "import pandas as pd\n",
    "import os\n",
    "from dateutil import parser\n",
    "import traceback\n",
    "\n"
   ]
  },
  {
   "cell_type": "markdown",
   "source": [
    "### Senate Code"
   ],
   "metadata": {
    "collapsed": false,
    "pycharm": {
     "name": "#%% md\n"
    }
   }
  },
  {
   "cell_type": "code",
   "execution_count": 15,
   "outputs": [
    {
     "data": {
      "text/plain": "<Element 'billStatus' at 0x1201fb270>"
     },
     "execution_count": 15,
     "metadata": {},
     "output_type": "execute_result"
    }
   ],
   "source": [
    "filename = 'fdsys_billstatus.xml'\n",
    "import xml.etree.ElementTree as ET\n",
    "tree = ET.parse(f'./congress/data/111/bills/hr/hr80/{filename}')\n",
    "root = tree.getroot()\n",
    "root"
   ],
   "metadata": {
    "collapsed": false,
    "pycharm": {
     "name": "#%%\n"
    }
   }
  },
  {
   "cell_type": "code",
   "execution_count": 16,
   "outputs": [],
   "source": [
    "bill = root.find('bill')"
   ],
   "metadata": {
    "collapsed": false,
    "pycharm": {
     "name": "#%%\n"
    }
   }
  },
  {
   "cell_type": "code",
   "execution_count": 17,
   "outputs": [
    {
     "data": {
      "text/plain": "datetime.datetime(2021, 9, 28, 19, 57, 45, tzinfo=tzutc())"
     },
     "execution_count": 17,
     "metadata": {},
     "output_type": "execute_result"
    }
   ],
   "source": [
    "billNumber = bill.find('billNumber').text\n",
    "createDate = parser.parse(bill.find('createDate').text)\n",
    "updateDate = parser.parse(bill.find('updateDate').text)\n",
    "updateDate"
   ],
   "metadata": {
    "collapsed": false,
    "pycharm": {
     "name": "#%%\n"
    }
   }
  },
  {
   "cell_type": "code",
   "execution_count": 18,
   "outputs": [],
   "source": [
    "originChamber = bill.find('originChamber').text"
   ],
   "metadata": {
    "collapsed": false,
    "pycharm": {
     "name": "#%%\n"
    }
   }
  },
  {
   "cell_type": "code",
   "execution_count": 19,
   "outputs": [],
   "source": [
    "billType = bill.find('billType').text\n"
   ],
   "metadata": {
    "collapsed": false,
    "pycharm": {
     "name": "#%%\n"
    }
   }
  },
  {
   "cell_type": "code",
   "execution_count": 20,
   "outputs": [],
   "source": [
    "introducedDate = parser.parse(bill.find('introducedDate').text)"
   ],
   "metadata": {
    "collapsed": false,
    "pycharm": {
     "name": "#%%\n"
    }
   }
  },
  {
   "cell_type": "code",
   "execution_count": 21,
   "outputs": [],
   "source": [
    "congress = bill.find('congress').text"
   ],
   "metadata": {
    "collapsed": false,
    "pycharm": {
     "name": "#%%\n"
    }
   }
  },
  {
   "cell_type": "markdown",
   "source": [
    "## Committee Code\n",
    "\n",
    "\n"
   ],
   "metadata": {
    "collapsed": false,
    "pycharm": {
     "name": "#%% md\n"
    }
   }
  },
  {
   "cell_type": "code",
   "execution_count": 22,
   "outputs": [
    {
     "data": {
      "text/plain": "[{'committee': 'Environment and Public Works Committee',\n  'comitteeChamber': 'Senate',\n  'committeeType': 'Standing',\n  'committeeActivities': [{'name': 'Reported by',\n    'date': '2009-07-20T21:16:04Z'},\n   {'name': 'Markup by', 'date': '2009-05-14T19:27:30Z'},\n   {'name': 'Referred to', 'date': '2009-03-12T20:39:20Z'}],\n  'subcommittees': []},\n {'committee': 'Natural Resources Committee',\n  'comitteeChamber': 'House',\n  'committeeType': 'Standing',\n  'committeeActivities': [{'name': 'Referred to',\n    'date': '2009-01-06T17:05:42Z'}],\n  'subcommittees': [{'name': 'Fisheries, Wildlife, Oceans, and Insular Affairs Subcommittee',\n    'activities': [{'name': 'Referred to', 'date': '2009-02-04T17:34:39Z'}]}]}]"
     },
     "execution_count": 22,
     "metadata": {},
     "output_type": "execute_result"
    }
   ],
   "source": [
    "committeeList = []\n",
    "committees = bill.find('committees').find('billCommittees')\n",
    "for com in committees:\n",
    "    committee = com.find('name').text\n",
    "    committeeChamber = com.find('chamber').text\n",
    "    committeeType = com.find('type').text\n",
    "    try:\n",
    "        subcommittees = com.find('subcommittees')\n",
    "        subcommitteesList = []\n",
    "        for sb in subcommittees:\n",
    "            sbName = sb.find('name').text\n",
    "            sbActivitiesList = []\n",
    "            sbActivities = sb.find('activities')\n",
    "            for sba in sbActivities:\n",
    "                sbaName = sba.find('name').text\n",
    "                sbaDate = sba.find('date').text\n",
    "                sbActivitiesList.append({'name':sbaName, 'date':sbaDate})\n",
    "            subcommitteesList.append({'name':sbName,'activities':sbActivitiesList})\n",
    "    except:\n",
    "        pass\n",
    "    committeeActivities = com.find('activities')\n",
    "    activities = []\n",
    "    for c in committeeActivities:\n",
    "        activities.append({'name':c.find('name').text,'date':c.find('date').text})\n",
    "    committeeList.append({'committee':committee,'comitteeChamber':committeeChamber,'committeeType':committeeType,\n",
    "                          'committeeActivities':activities, 'subcommittees':subcommitteesList})\n",
    "committeeList"
   ],
   "metadata": {
    "collapsed": false,
    "pycharm": {
     "name": "#%%\n"
    }
   }
  },
  {
   "cell_type": "markdown",
   "source": [
    "## Related Bills Code"
   ],
   "metadata": {
    "collapsed": false,
    "pycharm": {
     "name": "#%% md\n"
    }
   }
  },
  {
   "cell_type": "code",
   "execution_count": 23,
   "outputs": [
    {
     "data": {
      "text/plain": "[{'latestTitle': 'Captive Primate Safety Act',\n  'number': '462',\n  'type': 'S',\n  'latestActionDate': datetime.datetime(2009, 2, 24, 0, 0),\n  'latestActionText': 'Read twice and referred to the Committee on Environment and Public Works.'}]"
     },
     "execution_count": 23,
     "metadata": {},
     "output_type": "execute_result"
    }
   ],
   "source": [
    "try:\n",
    "    relatedBills = bill.find('relatedBills')\n",
    "    relatedBillsList = []\n",
    "    for b in relatedBills:\n",
    "        latestTitle = b.find('latestTitle').text\n",
    "        number = b.find('number').text\n",
    "        type = b.find('type').text\n",
    "        latestActionDate = parser.parse(b.find('latestAction').find('actionDate').text)\n",
    "        latestActionText = b.find('latestAction').find('text').text\n",
    "        relatedBillsList.append({'latestTitle':latestTitle, 'number':number,'type':type,'latestActionDate':latestActionDate,\n",
    "                                 'latestActionText':latestActionText})\n",
    "except:\n",
    "    traceback.format_exc()\n",
    "relatedBillsList"
   ],
   "metadata": {
    "collapsed": false,
    "pycharm": {
     "name": "#%%\n"
    }
   }
  },
  {
   "cell_type": "markdown",
   "source": [
    "## Actions Code"
   ],
   "metadata": {
    "collapsed": false,
    "pycharm": {
     "name": "#%% md\n"
    }
   }
  },
  {
   "cell_type": "code",
   "execution_count": 24,
   "outputs": [
    {
     "data": {
      "text/plain": "[{'date': '2009-07-20',\n  'text': 'Placed on Senate Legislative Calendar under General Orders. Calendar No. 118.',\n  'type': 'Calendars'},\n {'date': '2009-07-20',\n  'text': 'Committee on Environment and Public Works. Reported by Senator Boxer without amendment. With written report No. 111-53.',\n  'type': 'Committee'},\n {'date': '2009-07-20',\n  'text': 'Committee on Environment and Public Works. Reported by Senator Boxer without amendment. With written report No. 111-53.',\n  'type': 'Committee'},\n {'date': '2009-05-14',\n  'text': 'Committee on Environment and Public Works. Ordered to be reported without amendment favorably.',\n  'type': 'Committee'},\n {'date': '2009-03-12',\n  'text': 'Read twice and referred to the Committee on Environment and Public Works.',\n  'type': 'IntroReferral'},\n {'date': '2009-02-25',\n  'text': 'Received in the Senate.',\n  'type': 'IntroReferral'},\n {'date': '2009-02-24',\n  'text': 'Motion to reconsider laid on the table Agreed to without objection.',\n  'type': 'Floor'},\n {'date': '2009-02-24',\n  'text': 'On motion to suspend the rules and pass the bill Agreed to by recorded vote (2/3 required): 323 - 95 (Roll no. 76). (text: CR 2/23/2009 H1617)',\n  'type': 'Floor'},\n {'date': '2009-02-24',\n  'text': 'Passed/agreed to in House: On motion to suspend the rules and pass the bill Agreed to by recorded vote (2/3 required): 323 - 95 (Roll no. 76).(text: CR 2/23/2009 H1617)',\n  'type': 'Floor'},\n {'date': '2009-02-24',\n  'text': 'Considered as unfinished business. (consideration: CR H2606-2607, H2622)',\n  'type': 'Floor'},\n {'date': '2009-02-23',\n  'text': 'At the conclusion of debate, the chair put the question on the motion to suspend the rules. Mr. Broun (GA) objected to the vote on the grounds that a quorum was not present. Further proceedings on the motion were postponed. The point of no quorum was withdrawn.',\n  'type': 'Floor'},\n {'date': '2009-02-23',\n  'text': 'DEBATE - The House proceeded with forty minutes of debate on H.R. 80.',\n  'type': 'Floor'},\n {'date': '2009-02-23',\n  'text': 'Considered under suspension of the rules. (consideration: CR H1616-1622)',\n  'type': 'Floor'},\n {'date': '2009-02-23',\n  'text': 'Ms. Bordallo moved to suspend the rules and pass the bill.',\n  'type': 'Floor'},\n {'date': '2009-02-04',\n  'text': 'Referred to the Subcommittee on Insular Affairs, Oceans and Wildlife.',\n  'type': 'Committee'},\n {'date': '2009-01-06',\n  'text': 'Referred to the House Committee on Natural Resources.',\n  'type': 'IntroReferral'},\n {'date': '2009-01-06',\n  'text': 'Sponsor introductory remarks on measure. (CR E14)',\n  'type': 'IntroReferral'},\n {'date': '2009-01-06',\n  'text': 'Introduced in House',\n  'type': 'IntroReferral'},\n {'date': '2009-01-06',\n  'text': 'Introduced in House',\n  'type': 'IntroReferral'}]"
     },
     "execution_count": 24,
     "metadata": {},
     "output_type": "execute_result"
    }
   ],
   "source": [
    "actions = bill.find('actions')\n",
    "actionsList = []\n",
    "try:\n",
    "    for a in actions:\n",
    "        actionDate = a.find('actionDate').text\n",
    "        actionType = a.find('type').text\n",
    "        actionText = a.find('text').text\n",
    "        actionsList.append({'date':actionDate, 'text':actionText, 'type':actionType})\n",
    "except Exception as e:\n",
    "    traceback.format_exc()\n",
    "actionsList\n"
   ],
   "metadata": {
    "collapsed": false,
    "pycharm": {
     "name": "#%%\n"
    }
   }
  },
  {
   "cell_type": "markdown",
   "source": [
    "## Sponsors Code\n"
   ],
   "metadata": {
    "collapsed": false,
    "pycharm": {
     "name": "#%% md\n"
    }
   }
  },
  {
   "cell_type": "code",
   "execution_count": 27,
   "outputs": [
    {
     "data": {
      "text/plain": "[{'fullName': 'Sen. Grassley, Chuck [R-IA]', 'party': 'R', 'state': 'IA'},\n {'fullName': 'Sen. Baucus, Max [D-MT]', 'party': 'D', 'state': 'MT'},\n {'fullName': 'Sen. Snowe, Olympia J. [R-ME]', 'party': 'R', 'state': 'ME'},\n {'fullName': 'Sen. Hatch, Orrin G. [R-UT]', 'party': 'R', 'state': 'UT'}]"
     },
     "execution_count": 27,
     "metadata": {},
     "output_type": "execute_result"
    }
   ],
   "source": [
    "sponsors = bill.find('sponsors')\n",
    "sponsorList = []\n",
    "for s in sponsors:\n",
    "    fullName = s.find('fullName').text\n",
    "    party = s.find('party').text\n",
    "    state = s.find('state').text\n",
    "    sponsorList.append({'fullName':fullName, 'party':party, 'state':state})\n",
    "sponsorList\n",
    "cosponsorList = []\n",
    "try:\n",
    "    cosponsors = bill.find('cosponsors')\n",
    "    for s in cosponsors:\n",
    "        fullName = s.find('fullName').text\n",
    "        party = s.find('party').text\n",
    "        state = s.find('state').text\n",
    "        cosponsorList.append({'fullName':fullName, 'party':party, 'state':state})\n",
    "except:\n",
    "    traceback.format_exc()\n",
    "cosponsorList"
   ],
   "metadata": {
    "collapsed": false,
    "pycharm": {
     "name": "#%%\n"
    }
   }
  },
  {
   "cell_type": "markdown",
   "source": [
    "## Policy Area"
   ],
   "metadata": {
    "collapsed": false,
    "pycharm": {
     "name": "#%% md\n"
    }
   }
  },
  {
   "cell_type": "code",
   "execution_count": 28,
   "outputs": [
    {
     "data": {
      "text/plain": "'Health'"
     },
     "execution_count": 28,
     "metadata": {},
     "output_type": "execute_result"
    }
   ],
   "source": [
    "policyArea = bill.find('policyArea').find('name').text\n",
    "policyArea"
   ],
   "metadata": {
    "collapsed": false,
    "pycharm": {
     "name": "#%%\n"
    }
   }
  },
  {
   "cell_type": "markdown",
   "source": [
    "## Summaries Code\n"
   ],
   "metadata": {
    "collapsed": false,
    "pycharm": {
     "name": "#%% md\n"
    }
   }
  },
  {
   "cell_type": "code",
   "execution_count": 29,
   "outputs": [
    {
     "data": {
      "text/plain": "'Prescription Drug and Medicare Improvement Act of 2003 - Expresses the sense of the Congress that the Congress should enact, and the President should sign, legislation to amend title XVIII (Medicare) of the Social Security Act to make improvements in the Medicare program and to provide prescription drug coverage under the Medicare program.'"
     },
     "execution_count": 29,
     "metadata": {},
     "output_type": "execute_result"
    }
   ],
   "source": [
    "summary = bill.find('summaries').find('billSummaries')[0].find('text').text\n",
    "summary"
   ],
   "metadata": {
    "collapsed": false,
    "pycharm": {
     "name": "#%%\n"
    }
   }
  },
  {
   "cell_type": "markdown",
   "source": [
    "## Title Code"
   ],
   "metadata": {
    "collapsed": false,
    "pycharm": {
     "name": "#%% md\n"
    }
   }
  },
  {
   "cell_type": "code",
   "execution_count": 30,
   "outputs": [
    {
     "data": {
      "text/plain": "'Prescription Drug and Medicare Improvement Act of 2003'"
     },
     "execution_count": 30,
     "metadata": {},
     "output_type": "execute_result"
    }
   ],
   "source": [
    "title = bill.find('title').text\n",
    "title"
   ],
   "metadata": {
    "collapsed": false,
    "pycharm": {
     "name": "#%%\n"
    }
   }
  },
  {
   "cell_type": "code",
   "execution_count": 31,
   "outputs": [],
   "source": [
    "\n",
    "import sqlalchemy as db\n",
    "db = db.create_engine('postgresql://sanjee@localhost/data', echo=True)"
   ],
   "metadata": {
    "collapsed": false,
    "pycharm": {
     "name": "#%%\n"
    }
   }
  },
  {
   "cell_type": "code",
   "execution_count": 32,
   "outputs": [],
   "source": [
    "from sqlalchemy import Text, Date, Table, Column, Integer, String, MetaData\n",
    "from sqlalchemy.dialects.postgresql import JSONB\n",
    "meta = MetaData()"
   ],
   "metadata": {
    "collapsed": false,
    "pycharm": {
     "name": "#%%\n"
    }
   }
  },
  {
   "cell_type": "code",
   "execution_count": 33,
   "outputs": [
    {
     "name": "stdout",
     "output_type": "stream",
     "text": [
      "2021-11-23 03:24:27,823 INFO sqlalchemy.engine.Engine select version()\n",
      "2021-11-23 03:24:27,824 INFO sqlalchemy.engine.Engine [raw sql] {}\n",
      "2021-11-23 03:24:27,826 INFO sqlalchemy.engine.Engine select current_schema()\n",
      "2021-11-23 03:24:27,827 INFO sqlalchemy.engine.Engine [raw sql] {}\n",
      "2021-11-23 03:24:27,829 INFO sqlalchemy.engine.Engine show standard_conforming_strings\n",
      "2021-11-23 03:24:27,830 INFO sqlalchemy.engine.Engine [raw sql] {}\n",
      "2021-11-23 03:24:27,832 INFO sqlalchemy.engine.Engine BEGIN (implicit)\n",
      "2021-11-23 03:24:27,833 INFO sqlalchemy.engine.Engine select relname from pg_class c join pg_namespace n on n.oid=c.relnamespace where pg_catalog.pg_table_is_visible(c.oid) and relname=%(name)s\n",
      "2021-11-23 03:24:27,834 INFO sqlalchemy.engine.Engine [generated in 0.00089s] {'name': 's'}\n",
      "2021-11-23 03:24:27,841 INFO sqlalchemy.engine.Engine COMMIT\n"
     ]
    }
   ],
   "source": [
    "s = Table(\n",
    "   's', meta,\n",
    "   Column('billNumber', Integer),\n",
    "   Column('originChamber', Text),\n",
    "   Column('billType', Text),\n",
    "   Column('introducedDate', Date),\n",
    "   Column('congress', Integer),\n",
    "   Column('committees', JSONB),\n",
    "   Column('relatedBills', JSONB),\n",
    "   Column('actions', JSONB),\n",
    "   Column('sponsors', JSONB),\n",
    "   Column('cosponsors', JSONB),\n",
    "   Column('policyArea', Text),\n",
    "   Column('summary', Text),\n",
    "   Column('title', Text),\n",
    ")\n",
    "meta.create_all(db)"
   ],
   "metadata": {
    "collapsed": false,
    "pycharm": {
     "name": "#%%\n"
    }
   }
  },
  {
   "cell_type": "code",
   "execution_count": 34,
   "outputs": [],
   "source": [
    "ins = s.insert().values(billNumber=billNumber,originChamber=originChamber, billType=billType, introducedDate=introducedDate,\n",
    "                        congress=congress, committees=committeeList, actions=actionsList, sponsors=sponsorList, cosponsors=cosponsorList,\n",
    "                        policyArea=policyArea, summary=summary, title=title)"
   ],
   "metadata": {
    "collapsed": false,
    "pycharm": {
     "name": "#%%\n"
    }
   }
  },
  {
   "cell_type": "code",
   "execution_count": 35,
   "outputs": [],
   "source": [
    "conn = db.connect()"
   ],
   "metadata": {
    "collapsed": false,
    "pycharm": {
     "name": "#%%\n"
    }
   }
  },
  {
   "cell_type": "code",
   "execution_count": 36,
   "outputs": [
    {
     "name": "stdout",
     "output_type": "stream",
     "text": [
      "2021-11-23 03:24:31,626 INFO sqlalchemy.engine.Engine INSERT INTO s (\"billNumber\", \"originChamber\", \"billType\", \"introducedDate\", congress, committees, actions, sponsors, cosponsors, \"policyArea\", summary, title) VALUES (%(billNumber)s, %(originChamber)s, %(billType)s, %(introducedDate)s, %(congress)s, %(committees)s, %(actions)s, %(sponsors)s, %(cosponsors)s, %(policyArea)s, %(summary)s, %(title)s)\n",
      "2021-11-23 03:24:31,627 INFO sqlalchemy.engine.Engine [generated in 0.00153s] {'billNumber': '1', 'originChamber': 'Senate', 'billType': 'S', 'introducedDate': datetime.datetime(2003, 6, 11, 0, 0), 'congress': '108', 'committees': '[{\"committee\": \"Finance Committee\", \"comitteeChamber\": \"Senate\", \"committeeType\": \"Standing\", \"committeeActivities\": [{\"name\": \"Reported by\", \"date\": ... (11 characters truncated) ... 3T16:38:34Z\"}, {\"name\": \"Markup by\", \"date\": \"2003-06-12T16:15:53Z\"}, {\"name\": \"Referred to\", \"date\": \"2003-06-11T23:57:41Z\"}], \"subcommittees\": []}]', 'actions': '[{\"date\": \"2003-07-07\", \"text\": \"See also H.R.1.\", \"type\": \"Floor\"}, {\"date\": \"2003-07-07\", \"text\": \"Returned to the Calendar. Calendar No. 138.\", \"t ... (2866 characters truncated) ... text of measure as introduced: CR S7720)\", \"type\": \"IntroReferral\"}, {\"date\": \"2003-06-11\", \"text\": \"Introduced in Senate\", \"type\": \"IntroReferral\"}]', 'sponsors': '[{\"fullName\": \"Sen. Frist, William H. [R-TN]\", \"party\": \"R\", \"state\": \"TN\"}]', 'cosponsors': '[{\"fullName\": \"Sen. Grassley, Chuck [R-IA]\", \"party\": \"R\", \"state\": \"IA\"}, {\"fullName\": \"Sen. Baucus, Max [D-MT]\", \"party\": \"D\", \"state\": \"MT\"}, {\"fullName\": \"Sen. Snowe, Olympia J. [R-ME]\", \"party\": \"R\", \"state\": \"ME\"}, {\"fullName\": \"Sen. Hatch, Orrin G. [R-UT]\", \"party\": \"R\", \"state\": \"UT\"}]', 'policyArea': 'Health', 'summary': 'Prescription Drug and Medicare Improvement Act of 2003 - Expresses the sense of the Congress that the Congress should enact, and the President should ... (43 characters truncated) ... dicare) of the Social Security Act to make improvements in the Medicare program and to provide prescription drug coverage under the Medicare program.', 'title': 'Prescription Drug and Medicare Improvement Act of 2003'}\n",
      "2021-11-23 03:24:31,639 INFO sqlalchemy.engine.Engine COMMIT\n"
     ]
    }
   ],
   "source": [
    "result = conn.execute(ins)"
   ],
   "metadata": {
    "collapsed": false,
    "pycharm": {
     "name": "#%%\n"
    }
   }
  },
  {
   "cell_type": "markdown",
   "source": [
    "## JSON Parsing Code for archived bills"
   ],
   "metadata": {
    "collapsed": false,
    "pycharm": {
     "name": "#%% md\n"
    }
   }
  },
  {
   "cell_type": "code",
   "execution_count": 6,
   "outputs": [
    {
     "data": {
      "text/plain": "{'actions': [{'acted_at': '1973-01-03',\n   'committee': 'House Committee on Ways and Means',\n   'references': [],\n   'status': 'REFERRED',\n   'text': 'Referred to House Committee on Ways and Means.',\n   'type': 'referral'}],\n 'amendments': [],\n 'bill_id': 'hr1-93',\n 'bill_type': 'hr',\n 'committees': [{'activity': ['referral', 'in committee'],\n   'committee': 'House Ways and Means',\n   'committee_id': 'HSWM'}],\n 'congress': '93',\n 'cosponsors': [],\n 'enacted_as': None,\n 'history': {'awaiting_signature': False, 'enacted': False, 'vetoed': False},\n 'introduced_at': '1973-01-03',\n 'number': '1',\n 'official_title': 'A bill to establish a new program of health care delivery and comprehensive health care delivery and comprehensive health care benefits (including catastrophic coverage), to be available to aged persons, and to employed, unemployed, and low-income individuals, at a cost related to their income.',\n 'popular_title': None,\n 'related_bills': [],\n 'short_title': 'National Health Care Services Reorganization and Financing Act',\n 'sponsor': {'district': '2',\n  'name': 'Ullman, Al',\n  'state': 'OR',\n  'thomas_id': '01174',\n  'title': 'Rep',\n  'type': 'person'},\n 'status': 'REFERRED',\n 'status_at': '1973-01-03',\n 'subjects': ['Advisory bodies',\n  'Comprehensive health care',\n  'Government operations and politics',\n  'Health',\n  'Health insurance',\n  'Medical care, personnel, and facilities',\n  'Old age, survivors and disability insurance',\n  'Social welfare',\n  'States'],\n 'subjects_top_term': 'Health',\n 'summary': {'as': 'Introduced',\n  'date': '1973-01-03',\n  'text': \"National Health Care Services Reorganization and Financing Act - Title I: Reorganization of National Health Services - National Health Care Services Reorganization Act - Establishes the Department of Health which shall be headed by a Secretary of Health appointed by the President, by and with the advice and consent of the Senate. Provides for the appointment by the President, by and with the consent of the Senate, of an Under Secretary who shall act for, and exercise the powers of, the Secretary during the absence or disability of the Secretary. States that the Under Secretary shall perform such functions as the Secretary shall from time to time prescribe. Provides that there shall be in the Department seven Assistant Secretaries, a General Counsel, and a Chief Medical Officer who shall be appointed by the President, by and with the advice and consent of the Senate. Transfers to the Secretary and in specified instances to the Chief Medical Officer all functions of the Secretary of Health, Education and Welfare under laws and provisions of law listed in this Act. Provides that within one hundred and eighty days of the effective date of this title the President may transfer to the Secretary any function not transferred to the Secretary by this title, if the Director of the Office of Management and Budget determines that such function relates primarily to functions transferred by this title to the Secretary, or otherwise relates to health. Redesignates the Department of Health, Education and Welfare as the Department of Education and Welfare. Sets forth provisions concerning the administrative functions of the Department of Health. Requires the Secretary to make an annual report in writing to the President for submission to the Congress on the activities of the Department during the preceding fiscal year. Provides that all orders, determinations, rules, regulations, permits, contracts, certificates, licenses and privileges which have been issued under provisions of law transferred by this title and which are in effect at the time this title takes effect shall continue in effect until modified, terminated, superseded, set aside, or repealed by the Secretary, by any court of competent jurisdiction, or by operation of law. Directs the Secretary to submit to the Congress within two years after the effective date of this title a proposed codification of all laws which contain functions transferred to the Secretary. Makes the Secretary responsible for the planning, administration, operation, coordination, and evaluation of all programs transferred to him under this title in addition to the Health Care Program authorized under this Act. Authorizes the Secretary to prescribe such regulations as he deems necessary for the efficient administration of the Act. Establishes a National Health Services Advisory Council which shall consist of the Secretary and twenty members appointed by the Secretary. Sets forth the terms of office of the members of the Council. Authorizes the Council to: (1) advise the Secretary on matters of general policy in the administration of this title and in the formation of regulations, and (2) study the operation of this title and the activities of State Health Commission, Health Care Corporations, and other providers. Requires the Council to make an annual report to the Secretary for transmittal to the Congress. Authorizes the Secretary to provide financial and technical assistance for the early planning, development, establishment, and initial operation of Health Care Corporations, including incentives for the use of the capitation payment method of health care and for the development and improvement of outpatient care centers. States that the Secretary may provide such assistance by means of grants and contracts. Provides that in making such grants and contracts the Secretary shall take into account existing health care resources and health care delivery systems, the relative need of the States and areas within the States for assistance, and the need for an equitable distribution of such assistance. Authorizes the Secretary to make grants to State Health Commissions to facilitate and expedite the submission of State plans to the Secretary as required by this title. Authorizes to be appropriated for planning grants such sums as may be necessary for each of three fiscal years beginning with the fiscal year in which this Act is enacted. Provides for a Federal payment of 90 percent of the sums expended for the proper and efficient administration of an approved State plan. Decreases such payment over a specified time period to 75 percent of the State expenditures. Sets forth penalties for criminal violations of this Act. Declares that States will be in compliance with this Act if: (1) the State has created, within the executive branch of the State government, a State agency headed by a State Health Commission for carrying out the responsibilities devolving upon the State under this Act; (2) there is established in such agency a State Advisory Council; and (3) there is in effect an approved State plan, submitted by the State Health Commission, for carrying out the State's responsibilities under this title. Provides that a State Health Commission shall be composed of three or five members appointed by the Governor of the State for staggered terms which shall be renewable. States that not more than two members of a three-member commission, nor three-members of a five member commission shall be members of the same political party. Declares that it is the sense of the Congress that members of a State Health Commission should be chosen with a view to their ability to bring to the commission highly qualified, effective, and disinterested policy direction. Provides that the Advisory Council to the State Health Commission shall be appointed by the Governor of the State and consist of persons representative of providers and consumers of health care. States that the Council shall consult with the commission in the development and carrying out of the State plan. Requires the State Health Commission of each participating State to conduct a study and survey with a view to the approval of service areas for applicant Health Care Corporations as a basis for the issuance of certificates of approval by the commission, with the objective of affording to all the people in the State equal and ready access to the full range of comprehensive health care of high quality provided for in this title. Provides that a State plan shall make provision for stimulating and encouraging the organization of Health Care Corporations. Authorizes the Secretary to conduct the functions of a State Health Commission through the Department of Health, Education, and Welfare, when such a Commission has not been established in a State under this Act. Provides that the Secretary shall encourage and assist the States and their State Health Commissions in carrying out cooperatively with other States their respective functions, including the making of agreements between States for that purpose with respect to the establishment, admission, and approval of Health Care Corporations, the establishment of joint health care areas and assignment of such corporations thereto, and the exchange of information. Requires the Secretary to develop and encourage the enactment of model State legislation in the fields covered by this title. Defines a Health Care Corporation as a nonprofit private or governmental corporation which is organized for the purpose of furnishing comprehensive and coordinated personal health services to persons registered with the corporation, furnishing personal health services to other persons to the extent authorized by this title, and engaging in educational, research, and other activities incidental or related to the furnishing of personal health services, and which provides effective and equitable representation, on its governing board, of registrants with the corporation and affiliated institutional and professional providers furnishing services on its behalf. Provides that a Health Care Corporation shall assume responsibility for making available and furnishing to each registrant with the corporation all services for which he has Comprehensive Health Care Benefits coverage and which are medically necessary. Provides that services may be provided through an affiliated provider by contract with the Health Care Corporation. Provides that the Corporation shall as rapidly as practicable develop, by affiliation with existing organizations or otherwise, a system of outpatient care centers throughout the approved service area. Provides that a Health Care Corporation shall assume responsibility for the quality of all services furnished by it either through its own facilities and personnel or by providers affiliated or acting under arrangements with it. Provides that a Corporation shall provide an opportunity to all practitioners in an approved service area to furnish services on its behalf, either as members of its professional staff or as affiliated providers. Provides that a Corporation shall develop and keep current a continuing personal health record for each registrant of the corporation. Provides that the corporation shall establish methods by which registrants may express their views with regard to the policies and operation of the corporation, the health needs of the community, and the need for any modification or expansion of the services furnished by the corporation. Provides that in recruitment and registration a Health Care Corporation shall not discriminate on the ground of race, creed, color, national origin, age, sex, occupation, economic status, or condition of health. Provides that the National Health Services Advisory Council shall conduct a full and complete study and investigation of methods of supplying supplemental capital and other funding for Health Care Corporations and related health care organizations in the United States. States that the Council shall give particular consideration to the development of a program which: (1) establishes and utilizes as its basic source of funds a national trust fund; (2) provides for the distribution of amounts in the fund to State health commissions in a manner reflecting population, per capita income, and health care needs; (3) recognizes the need for adequate planning for health care services and facilities; (4) encourages and facilitates the continuing provision of funds for these purposes from sources other than the trust fund; (5) leaves to each State health commission, under general regulations of the Secretary, the determination of how the funds distributed to the commission are to be allocated; and (6) contains or is subject to such other provisions, conditions, and limitations as may be necessary or appropriate to assure that the study will be effectively carried out. Requires the Council, within one year after the effective date of this Act, to submit to the Secretary, for transmission to the Congress, a full and complete report of its study and investigation. Title II: Financing of National Health Services - National Health Care Services Financing Act - Provides, under title II (Old-Age, Survivors, and Disability Insurance) of the Social Security Act, that every employer shall be required to provide benefits under this Act equivalent to the hospital insurance benefits available under title XVIII (Health Insurance for the Aged) of the Social Security Act, to provide Catastrophic Expense Benefits coverage and to provide Comprehensive Health Care Benefits covered under this Act, to each of his employees and for the members of the family of each such employee. Provides, under title IX of the Social Security Act, that every individual who is receiving benefits under any Federal or State unemployment compensation law shall be entitled to coverage for benefits under this Act equivalent to the hospital insurance benefits available under title XVIII of the Social Security Act and Catastrophic Expense Benefits coverage and Comprehensive Expense Benefits coverage under this Act. Authorizes the Secretary to contract for or to subsidize Comprehensive Health Care Benefits to elderly and medically indigent individuals, provided, in the latter case, that entitlement to coverage contracted for by the Secretary shall be subject to the condition that the individual or family concerned contributes to the carriers annual premium charge for such coverage. Allows a tax deduction, under the Internal Revenue Code, to an individual for all of the expenses paid during the taxable year for Comprehensive Health Care Benefits coverage under this Act. Provides that a State shall not be required to provide Medicaid payments to the extent that individuals otherwise entitled thereto are covered by this Act. Provides that coverage of a registrant for Comprehensive Health Care Benefits shall entitle the registrant, with listed exceptions, to have the carrier pay the approved predetermined charges of the Health Care Corporation for services and items furnished to him. Provides a table of Comprehensive Health Care Benefits to be covered by this Act. Provides that the Secretary shall submit to Congress recommendations for the expansion of benefits after the program under this Act is in operation, giving special consideration to the expansion of benefits for dental and vision services based on the availability of resources. Sets forth the requirements to be met by carriers for participation in Comprehensive Health Care Benefits under this Act. Title III: Effective Dates - Provides that the program under this Act shall be fully in operation on and after the first day of the fifth fiscal year which begins after the date of the enactment of this Act.\"},\n 'titles': [{'as': 'introduced',\n   'title': 'National Health Care Services Reorganization and Financing Act',\n   'type': 'short'},\n  {'as': 'introduced',\n   'title': 'National Health Care Services Financing Act',\n   'type': 'short'},\n  {'as': 'introduced',\n   'title': 'National Health Care Services Reorganization Act',\n   'type': 'short'},\n  {'as': 'introduced',\n   'title': 'A bill to establish a new program of health care delivery and comprehensive health care delivery and comprehensive health care benefits (including catastrophic coverage), to be available to aged persons, and to employed, unemployed, and low-income individuals, at a cost related to their income.',\n   'type': 'official'}],\n 'updated_at': '2013-02-02T18:15:49-05:00'}"
     },
     "execution_count": 6,
     "metadata": {},
     "output_type": "execute_result"
    }
   ],
   "source": [],
   "metadata": {
    "collapsed": false,
    "pycharm": {
     "name": "#%%\n"
    }
   }
  },
  {
   "cell_type": "code",
   "execution_count": 13,
   "outputs": [
    {
     "data": {
      "text/plain": "{'actions': [{'acted_at': '1973-01-04',\n   'committee': 'Senate Committee on Commerce',\n   'references': [],\n   'status': 'REFERRED',\n   'text': 'Referred to Senate Committee on Commerce.',\n   'type': 'referral'}],\n 'amendments': [],\n 'bill_id': 's16-93',\n 'bill_type': 's',\n 'committees': [{'activity': ['referral', 'in committee'],\n   'committee': 'Senate Commerce',\n   'committee_id': 'SSCM'}],\n 'congress': '93',\n 'cosponsors': [{'district': None,\n   'name': 'Nunn, Sam',\n   'sponsored_at': '1973-01-03',\n   'state': 'GA',\n   'thomas_id': '01413',\n   'title': 'Sen',\n   'withdrawn_at': None}],\n 'enacted_as': None,\n 'history': {'awaiting_signature': False, 'enacted': False, 'vetoed': False},\n 'introduced_at': '1973-01-04',\n 'number': '16',\n 'official_title': 'A bill to amend the Communications Act of 1934 to establish orderly procedures for the consideration of application for renewal of broadcast licenses.',\n 'popular_title': None,\n 'related_bills': [],\n 'short_title': 'Broadcast License Act',\n 'sponsor': {'district': None,\n  'name': 'Schweiker, Richard S.',\n  'state': 'PA',\n  'thomas_id': '01431',\n  'title': 'Sen',\n  'type': 'person'},\n 'status': 'REFERRED',\n 'status_at': '1973-01-04',\n 'subjects': ['Broadcasting',\n  'Government operations and politics',\n  'Licenses'],\n 'subjects_top_term': 'Government operations and politics',\n 'summary': {'as': 'Introduced',\n  'date': '1973-01-04',\n  'text': \"Broadcast License Act - Provides that no license granted for the operation of a broadcasting station under the Communications Act of 1934 shall be for a longer term than five years. Provides for renewal of such license where the Federal Communications Commission finds that the public interest, convenience, and necessity would be served. Provides that an applicant for renewal who is legally, financially and technically qualified shall be awarded the grant if such applicant shows that its broadcast service during the preceding license period has reflected a good-faith effort to serve the needs and interests of its area as represented in its immediately preceding and pending license renewal application and if it has not demonstrated a callous disregard for law or the Commission's regulations.\"},\n 'titles': [{'as': 'introduced',\n   'title': 'Broadcast License Act',\n   'type': 'short'},\n  {'as': 'introduced',\n   'title': 'A bill to amend the Communications Act of 1934 to establish orderly procedures for the consideration of application for renewal of broadcast licenses.',\n   'type': 'official'}],\n 'updated_at': '2013-02-02T18:14:12-05:00'}"
     },
     "execution_count": 13,
     "metadata": {},
     "output_type": "execute_result"
    }
   ],
   "source": [
    "import json\n",
    "from models import conn, tables\n",
    "# for t in tables:\n",
    "#     congressNumbers = os.listdir('./data')\n",
    "#     for cN in congressNumbers:\n",
    "#         bills = os.listdir(f'./data/{cN}/bills/{t}')\n",
    "#         for b in bills:\n",
    "#             filename = f'./data/{cN}/bills/{t}/{b}/data.json'\n",
    "data = json.load(open('./data/93/bills/s/s16/data.json', 'r'))\n",
    "data"
   ],
   "metadata": {
    "collapsed": false,
    "pycharm": {
     "name": "#%%\n"
    }
   }
  },
  {
   "cell_type": "code",
   "execution_count": 10,
   "outputs": [],
   "source": [
    "billNumber = data['number']\n",
    "billNumber\n",
    "billType = str(data['bill_type']).toUpperCase()\n",
    "introducedDate = data['introduced_at']\n",
    "congress = data['congress']"
   ],
   "metadata": {
    "collapsed": false,
    "pycharm": {
     "name": "#%%\n"
    }
   }
  },
  {
   "cell_type": "code",
   "execution_count": null,
   "outputs": [],
   "source": [
    "committees = data['committees']\n",
    "committeeList = []\n",
    "try:\n",
    "    for com in committees:\n",
    "        committee = data['committee']\n",
    "        committeeList.append(\n",
    "            {'committee': committee})\n",
    "except:\n",
    "    pass\n",
    "title = data['short_title']\n",
    "summary = data['summary']['text']\n",
    "actions = data['actions']\n",
    "actionList = []\n",
    "for a in actions:\n",
    "    actionList.append({'date': a['acted_at'], 'text': a['text'], 'type': a['type']})"
   ],
   "metadata": {
    "collapsed": false,
    "pycharm": {
     "name": "#%%\n"
    }
   }
  },
  {
   "cell_type": "markdown",
   "source": [
    "## Sponsors Code\n"
   ],
   "metadata": {
    "collapsed": false,
    "pycharm": {
     "name": "#%% md\n"
    }
   }
  },
  {
   "cell_type": "code",
   "execution_count": null,
   "outputs": [],
   "source": [
    "sponsorList = []\n",
    "sponsor = data['sponsor']\n",
    "if sponsor['title'] == 'Sen':\n",
    "    sponsorTitle = f\"{sponsor['title']} {sponsor['name']} [{sponsor['state']}]\"\n",
    "else:\n",
    "    sponsorTitle = f\"{sponsor['title']} {sponsor['name']} [{sponsor['state']}-{sponsor['district']}]\"\n",
    "sponsorList.append({'fullName': sponsorTitle})\n",
    "sponsorList\n",
    "cosponsorList = []\n",
    "try:\n",
    "    cosponsors = data['cosponsors']\n",
    "    for sponsor in cosponsors:\n",
    "        if sponsor['title'] == 'Sen':\n",
    "            sponsorTitle = f\"{sponsor['title']} {sponsor['name']} [{sponsor['state']}]\"\n",
    "        else:\n",
    "            sponsorTitle = f\"{sponsor['title']} {sponsor['name']} [{sponsor['state']}-{sponsor['district']}]\"\n",
    "       cosponsorList.append({'fullName': sponsorTitle})\n",
    "except:\n",
    "    traceback.format_exc()\n",
    "\n",
    "ins = s.insert().values(billNumber=billNumber,billType=billType, introducedDate=introducedDate,\n",
    "                        congress=congress, committees=committeeList, actions=actionsList, sponsors=sponsorList, cosponsors=cosponsorList,\n",
    "                        title=title)"
   ],
   "metadata": {
    "collapsed": false,
    "pycharm": {
     "name": "#%%\n"
    }
   }
  }
 ],
 "metadata": {
  "kernelspec": {
   "display_name": "Python 3",
   "language": "python",
   "name": "python3"
  },
  "language_info": {
   "codemirror_mode": {
    "name": "ipython",
    "version": 2
   },
   "file_extension": ".py",
   "mimetype": "text/x-python",
   "name": "python",
   "nbconvert_exporter": "python",
   "pygments_lexer": "ipython2",
   "version": "2.7.6"
  }
 },
 "nbformat": 4,
 "nbformat_minor": 0
}